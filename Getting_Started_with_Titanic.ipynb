{
  "metadata": {
    "kernelspec": {
      "language": "python",
      "display_name": "Python 3",
      "name": "python3"
    },
    "language_info": {
      "name": "python",
      "version": "3.11.11",
      "mimetype": "text/x-python",
      "codemirror_mode": {
        "name": "ipython",
        "version": 3
      },
      "pygments_lexer": "ipython3",
      "nbconvert_exporter": "python",
      "file_extension": ".py"
    },
    "kaggle": {
      "accelerator": "none",
      "dataSources": [
        {
          "sourceId": 3136,
          "databundleVersionId": 26502,
          "sourceType": "competition"
        }
      ],
      "dockerImageVersionId": 31040,
      "isInternetEnabled": false,
      "language": "python",
      "sourceType": "notebook",
      "isGpuEnabled": false
    },
    "colab": {
      "name": "Getting Started with Titanic",
      "provenance": [],
      "include_colab_link": true
    }
  },
  "nbformat_minor": 0,
  "nbformat": 4,
  "cells": [
    {
      "cell_type": "markdown",
      "metadata": {
        "id": "view-in-github",
        "colab_type": "text"
      },
      "source": [
        "<a href=\"https://colab.research.google.com/github/denis201520182022/Titanic_Machine_Learning_from_Disaster/blob/main/Getting_Started_with_Titanic.ipynb\" target=\"_parent\"><img src=\"https://colab.research.google.com/assets/colab-badge.svg\" alt=\"Open In Colab\"/></a>"
      ]
    },
    {
      "source": [
        "# IMPORTANT: SOME KAGGLE DATA SOURCES ARE PRIVATE\n",
        "# RUN THIS CELL IN ORDER TO IMPORT YOUR KAGGLE DATA SOURCES.\n",
        "import kagglehub\n",
        "kagglehub.login()\n"
      ],
      "metadata": {
        "id": "a-vWuy5QfSB1"
      },
      "cell_type": "code",
      "outputs": [],
      "execution_count": null
    },
    {
      "source": [
        "# IMPORTANT: RUN THIS CELL IN ORDER TO IMPORT YOUR KAGGLE DATA SOURCES,\n",
        "# THEN FEEL FREE TO DELETE THIS CELL.\n",
        "# NOTE: THIS NOTEBOOK ENVIRONMENT DIFFERS FROM KAGGLE'S PYTHON\n",
        "# ENVIRONMENT SO THERE MAY BE MISSING LIBRARIES USED BY YOUR\n",
        "# NOTEBOOK.\n",
        "\n",
        "titanic_path = kagglehub.competition_download('titanic')\n",
        "\n",
        "print('Data source import complete.')\n"
      ],
      "metadata": {
        "id": "Cdb0CzE4fSB4"
      },
      "cell_type": "code",
      "outputs": [],
      "execution_count": null
    },
    {
      "cell_type": "code",
      "source": [
        "import pandas as pd"
      ],
      "metadata": {
        "trusted": true,
        "execution": {
          "iopub.status.busy": "2025-06-09T09:45:29.869804Z",
          "iopub.execute_input": "2025-06-09T09:45:29.870243Z",
          "iopub.status.idle": "2025-06-09T09:45:29.874534Z",
          "shell.execute_reply.started": "2025-06-09T09:45:29.870218Z",
          "shell.execute_reply": "2025-06-09T09:45:29.873747Z"
        },
        "id": "hSaw5ECcfSB6"
      },
      "outputs": [],
      "execution_count": null
    },
    {
      "cell_type": "code",
      "source": [
        "train = pd.read_csv('/kaggle/input/titanic/train.csv')\n",
        "test = pd.read_csv('/kaggle/input/titanic/test.csv')"
      ],
      "metadata": {
        "trusted": true,
        "execution": {
          "iopub.status.busy": "2025-06-09T09:45:32.998857Z",
          "iopub.execute_input": "2025-06-09T09:45:32.999239Z",
          "iopub.status.idle": "2025-06-09T09:45:33.032125Z",
          "shell.execute_reply.started": "2025-06-09T09:45:32.999216Z",
          "shell.execute_reply": "2025-06-09T09:45:33.031245Z"
        },
        "id": "gjuZsrV3fSB6"
      },
      "outputs": [],
      "execution_count": null
    },
    {
      "cell_type": "code",
      "source": [
        "train.info()\n"
      ],
      "metadata": {
        "trusted": true,
        "execution": {
          "iopub.status.busy": "2025-06-09T09:45:35.763269Z",
          "iopub.execute_input": "2025-06-09T09:45:35.763554Z",
          "iopub.status.idle": "2025-06-09T09:45:35.79148Z",
          "shell.execute_reply.started": "2025-06-09T09:45:35.763532Z",
          "shell.execute_reply": "2025-06-09T09:45:35.79029Z"
        },
        "id": "H0Y1t4IMfSB7"
      },
      "outputs": [],
      "execution_count": null
    },
    {
      "cell_type": "code",
      "source": [
        "train.head()"
      ],
      "metadata": {
        "trusted": true,
        "execution": {
          "iopub.status.busy": "2025-06-09T09:45:38.6122Z",
          "iopub.execute_input": "2025-06-09T09:45:38.612486Z",
          "iopub.status.idle": "2025-06-09T09:45:38.646137Z",
          "shell.execute_reply.started": "2025-06-09T09:45:38.612462Z",
          "shell.execute_reply": "2025-06-09T09:45:38.645184Z"
        },
        "id": "R8ZtaZIyfSB8"
      },
      "outputs": [],
      "execution_count": null
    },
    {
      "cell_type": "code",
      "source": [
        "train.describe()"
      ],
      "metadata": {
        "trusted": true,
        "execution": {
          "iopub.status.busy": "2025-06-09T09:46:00.887282Z",
          "iopub.execute_input": "2025-06-09T09:46:00.887572Z",
          "iopub.status.idle": "2025-06-09T09:46:00.917766Z",
          "shell.execute_reply.started": "2025-06-09T09:46:00.887548Z",
          "shell.execute_reply": "2025-06-09T09:46:00.916906Z"
        },
        "id": "p0Jdn8q2fSB8"
      },
      "outputs": [],
      "execution_count": null
    },
    {
      "cell_type": "code",
      "source": [
        "test.head()\n"
      ],
      "metadata": {
        "trusted": true,
        "execution": {
          "iopub.status.busy": "2025-06-09T09:46:12.116708Z",
          "iopub.execute_input": "2025-06-09T09:46:12.117035Z",
          "iopub.status.idle": "2025-06-09T09:46:12.129933Z",
          "shell.execute_reply.started": "2025-06-09T09:46:12.117012Z",
          "shell.execute_reply": "2025-06-09T09:46:12.129127Z"
        },
        "id": "AyUElqHffSB9"
      },
      "outputs": [],
      "execution_count": null
    },
    {
      "cell_type": "code",
      "source": [
        "test.info()"
      ],
      "metadata": {
        "trusted": true,
        "execution": {
          "iopub.status.busy": "2025-06-09T09:46:14.863326Z",
          "iopub.execute_input": "2025-06-09T09:46:14.863869Z",
          "iopub.status.idle": "2025-06-09T09:46:14.8737Z",
          "shell.execute_reply.started": "2025-06-09T09:46:14.86384Z",
          "shell.execute_reply": "2025-06-09T09:46:14.872672Z"
        },
        "id": "3vFyle-XfSB9"
      },
      "outputs": [],
      "execution_count": null
    },
    {
      "cell_type": "code",
      "source": [
        "import seaborn as sns\n",
        "import matplotlib.pyplot as plt"
      ],
      "metadata": {
        "trusted": true,
        "execution": {
          "iopub.status.busy": "2025-06-09T09:46:23.511171Z",
          "iopub.execute_input": "2025-06-09T09:46:23.511866Z",
          "iopub.status.idle": "2025-06-09T09:46:24.456102Z",
          "shell.execute_reply.started": "2025-06-09T09:46:23.51184Z",
          "shell.execute_reply": "2025-06-09T09:46:24.455352Z"
        },
        "id": "7vYz5HrrfSB-"
      },
      "outputs": [],
      "execution_count": null
    },
    {
      "cell_type": "code",
      "source": [
        "train[\"Cabin_letter\"] = train['Cabin'].astype(str).str[0]\n",
        "train[\"Cabin_letter\"] = train['Cabin_letter'].replace('n', 'U')"
      ],
      "metadata": {
        "trusted": true,
        "execution": {
          "iopub.status.busy": "2025-06-09T09:46:27.090175Z",
          "iopub.execute_input": "2025-06-09T09:46:27.090608Z",
          "iopub.status.idle": "2025-06-09T09:46:27.09849Z",
          "shell.execute_reply.started": "2025-06-09T09:46:27.090582Z",
          "shell.execute_reply": "2025-06-09T09:46:27.097474Z"
        },
        "id": "mAQ8FxvnfSB_"
      },
      "outputs": [],
      "execution_count": null
    },
    {
      "cell_type": "code",
      "source": [
        "plt.figure(figsize=(10,5))\n",
        "sns.countplot(data=train, x='Cabin_letter', hue='Survived')"
      ],
      "metadata": {
        "trusted": true,
        "execution": {
          "iopub.status.busy": "2025-06-09T09:46:29.868891Z",
          "iopub.execute_input": "2025-06-09T09:46:29.869191Z",
          "iopub.status.idle": "2025-06-09T09:46:30.209774Z",
          "shell.execute_reply.started": "2025-06-09T09:46:29.86917Z",
          "shell.execute_reply": "2025-06-09T09:46:30.208781Z"
        },
        "id": "TArcGt-ifSB_"
      },
      "outputs": [],
      "execution_count": null
    },
    {
      "cell_type": "code",
      "source": [
        "sbd = train.groupby('Cabin_letter')['Survived'].mean().sort_values(ascending=True)\n",
        "plt.figure(figsize=(10,5))\n",
        "sns.barplot(x=sbd.index, y=sbd.values)\n",
        "plt.grid(axis='y', linestyle='--', alpha=1)"
      ],
      "metadata": {
        "trusted": true,
        "execution": {
          "iopub.status.busy": "2025-06-09T09:46:33.869919Z",
          "iopub.execute_input": "2025-06-09T09:46:33.870855Z",
          "iopub.status.idle": "2025-06-09T09:46:34.071992Z",
          "shell.execute_reply.started": "2025-06-09T09:46:33.870824Z",
          "shell.execute_reply": "2025-06-09T09:46:34.071112Z"
        },
        "id": "ulGsOM4ifSCA"
      },
      "outputs": [],
      "execution_count": null
    },
    {
      "cell_type": "code",
      "source": [
        "train.drop(columns=['Cabin', 'Cabin_letter'], inplace=True)"
      ],
      "metadata": {
        "trusted": true,
        "execution": {
          "iopub.status.busy": "2025-06-09T09:46:40.263526Z",
          "iopub.execute_input": "2025-06-09T09:46:40.263869Z",
          "iopub.status.idle": "2025-06-09T09:46:40.27128Z",
          "shell.execute_reply.started": "2025-06-09T09:46:40.263834Z",
          "shell.execute_reply": "2025-06-09T09:46:40.270285Z"
        },
        "id": "nlYHKiCGfSCA"
      },
      "outputs": [],
      "execution_count": null
    },
    {
      "cell_type": "code",
      "source": [
        "train.drop(columns=['PassengerId', 'Name', 'Ticket'], inplace=True)"
      ],
      "metadata": {
        "trusted": true,
        "execution": {
          "iopub.status.busy": "2025-06-09T09:46:45.052183Z",
          "iopub.execute_input": "2025-06-09T09:46:45.052463Z",
          "iopub.status.idle": "2025-06-09T09:46:45.057903Z",
          "shell.execute_reply.started": "2025-06-09T09:46:45.052444Z",
          "shell.execute_reply": "2025-06-09T09:46:45.056889Z"
        },
        "id": "ddSvzfYBfSCA"
      },
      "outputs": [],
      "execution_count": null
    },
    {
      "cell_type": "code",
      "source": [
        "train.head()"
      ],
      "metadata": {
        "trusted": true,
        "execution": {
          "iopub.status.busy": "2025-06-09T09:46:47.901518Z",
          "iopub.execute_input": "2025-06-09T09:46:47.901828Z",
          "iopub.status.idle": "2025-06-09T09:46:47.913358Z",
          "shell.execute_reply.started": "2025-06-09T09:46:47.901804Z",
          "shell.execute_reply": "2025-06-09T09:46:47.912531Z"
        },
        "id": "xarZbc3CfSCA"
      },
      "outputs": [],
      "execution_count": null
    },
    {
      "cell_type": "code",
      "source": [
        "train['Sex'] = train['Sex'].map({'male':0, 'female':1})\n",
        "embarked_dummies = pd.get_dummies(train['Embarked'], prefix='Embarked')\n",
        "train = pd.concat([train, embarked_dummies], axis=1)\n",
        "train.drop('Embarked', axis=1, inplace=True)"
      ],
      "metadata": {
        "trusted": true,
        "execution": {
          "iopub.status.busy": "2025-06-09T09:46:59.042458Z",
          "iopub.execute_input": "2025-06-09T09:46:59.04278Z",
          "iopub.status.idle": "2025-06-09T09:46:59.054508Z",
          "shell.execute_reply.started": "2025-06-09T09:46:59.042749Z",
          "shell.execute_reply": "2025-06-09T09:46:59.053736Z"
        },
        "id": "QOy1TvJQfSCB"
      },
      "outputs": [],
      "execution_count": null
    },
    {
      "cell_type": "code",
      "source": [
        "train.head()"
      ],
      "metadata": {
        "trusted": true,
        "execution": {
          "iopub.status.busy": "2025-06-09T09:47:02.734995Z",
          "iopub.execute_input": "2025-06-09T09:47:02.735302Z",
          "iopub.status.idle": "2025-06-09T09:47:02.749053Z",
          "shell.execute_reply.started": "2025-06-09T09:47:02.73528Z",
          "shell.execute_reply": "2025-06-09T09:47:02.748244Z"
        },
        "id": "N2QvCGC0fSCB"
      },
      "outputs": [],
      "execution_count": null
    },
    {
      "cell_type": "code",
      "source": [
        "age_train = train[train['Age'].notnull()]\n",
        "age_unknow = train[train['Age'].isnull()]"
      ],
      "metadata": {
        "trusted": true,
        "execution": {
          "iopub.status.busy": "2025-06-09T09:47:15.831797Z",
          "iopub.execute_input": "2025-06-09T09:47:15.832196Z",
          "iopub.status.idle": "2025-06-09T09:47:15.840561Z",
          "shell.execute_reply.started": "2025-06-09T09:47:15.832169Z",
          "shell.execute_reply": "2025-06-09T09:47:15.839204Z"
        },
        "id": "Y9LZTsl3fSCB"
      },
      "outputs": [],
      "execution_count": null
    },
    {
      "cell_type": "code",
      "source": [
        "age_train_1 =age_train[[\"Pclass\", 'Sex', 'Fare']]\n",
        "age_train_2 =age_train[['Pclass', 'Sex', 'Fare', 'SibSp', 'Parch']]"
      ],
      "metadata": {
        "trusted": true,
        "execution": {
          "iopub.status.busy": "2025-06-09T09:47:19.359327Z",
          "iopub.execute_input": "2025-06-09T09:47:19.360131Z",
          "iopub.status.idle": "2025-06-09T09:47:19.365976Z",
          "shell.execute_reply.started": "2025-06-09T09:47:19.360101Z",
          "shell.execute_reply": "2025-06-09T09:47:19.364803Z"
        },
        "id": "M3x27u94fSCB"
      },
      "outputs": [],
      "execution_count": null
    },
    {
      "cell_type": "code",
      "source": [
        "age_train_1.head()"
      ],
      "metadata": {
        "trusted": true,
        "execution": {
          "iopub.status.busy": "2025-06-09T09:47:22.913971Z",
          "iopub.execute_input": "2025-06-09T09:47:22.914272Z",
          "iopub.status.idle": "2025-06-09T09:47:22.923154Z",
          "shell.execute_reply.started": "2025-06-09T09:47:22.914247Z",
          "shell.execute_reply": "2025-06-09T09:47:22.922237Z"
        },
        "id": "_T9L4DMffSCB"
      },
      "outputs": [],
      "execution_count": null
    },
    {
      "cell_type": "code",
      "source": [
        "age_train_2.head()"
      ],
      "metadata": {
        "trusted": true,
        "execution": {
          "iopub.status.busy": "2025-06-09T09:47:26.015684Z",
          "iopub.execute_input": "2025-06-09T09:47:26.016102Z",
          "iopub.status.idle": "2025-06-09T09:47:26.027433Z",
          "shell.execute_reply.started": "2025-06-09T09:47:26.016071Z",
          "shell.execute_reply": "2025-06-09T09:47:26.026399Z"
        },
        "id": "IjPtpkLifSCC"
      },
      "outputs": [],
      "execution_count": null
    },
    {
      "cell_type": "code",
      "source": [
        "from sklearn.linear_model import LinearRegression\n",
        "from sklearn.metrics import mean_squared_error, r2_score\n",
        "from sklearn.model_selection import train_test_split"
      ],
      "metadata": {
        "trusted": true,
        "execution": {
          "iopub.status.busy": "2025-06-09T09:47:30.871458Z",
          "iopub.execute_input": "2025-06-09T09:47:30.871831Z",
          "iopub.status.idle": "2025-06-09T09:47:31.160011Z",
          "shell.execute_reply.started": "2025-06-09T09:47:30.871799Z",
          "shell.execute_reply": "2025-06-09T09:47:31.159158Z"
        },
        "id": "-BJzCB0EfSCC"
      },
      "outputs": [],
      "execution_count": null
    },
    {
      "cell_type": "code",
      "source": [
        "age_target = age_train['Age']"
      ],
      "metadata": {
        "trusted": true,
        "execution": {
          "iopub.status.busy": "2025-06-09T09:47:39.46349Z",
          "iopub.execute_input": "2025-06-09T09:47:39.463835Z",
          "iopub.status.idle": "2025-06-09T09:47:39.468706Z",
          "shell.execute_reply.started": "2025-06-09T09:47:39.463809Z",
          "shell.execute_reply": "2025-06-09T09:47:39.467804Z"
        },
        "id": "YhjWsfpWfSCC"
      },
      "outputs": [],
      "execution_count": null
    },
    {
      "cell_type": "code",
      "source": [
        "X1_train, X1_test, y1_train, y1_test = train_test_split(\n",
        "    age_train_1, age_target, test_size=0.2, random_state=42\n",
        ")"
      ],
      "metadata": {
        "trusted": true,
        "execution": {
          "iopub.status.busy": "2025-06-09T09:47:43.81164Z",
          "iopub.execute_input": "2025-06-09T09:47:43.812621Z",
          "iopub.status.idle": "2025-06-09T09:47:43.820543Z",
          "shell.execute_reply.started": "2025-06-09T09:47:43.812584Z",
          "shell.execute_reply": "2025-06-09T09:47:43.819597Z"
        },
        "id": "BDUZzUsMfSCD"
      },
      "outputs": [],
      "execution_count": null
    },
    {
      "cell_type": "code",
      "source": [
        "X2_train, X2_test, y2_train, y2_test = train_test_split(\n",
        "    age_train_2, age_target, test_size=0.2, random_state=42\n",
        ")"
      ],
      "metadata": {
        "trusted": true,
        "execution": {
          "iopub.status.busy": "2025-06-09T09:47:45.627816Z",
          "iopub.execute_input": "2025-06-09T09:47:45.628106Z",
          "iopub.status.idle": "2025-06-09T09:47:45.636182Z",
          "shell.execute_reply.started": "2025-06-09T09:47:45.628083Z",
          "shell.execute_reply": "2025-06-09T09:47:45.635167Z"
        },
        "id": "F2R1Y93LfSCD"
      },
      "outputs": [],
      "execution_count": null
    },
    {
      "cell_type": "code",
      "source": [
        "model_1 = LinearRegression()\n",
        "model_1.fit(X1_train, y1_train)\n"
      ],
      "metadata": {
        "trusted": true,
        "execution": {
          "iopub.status.busy": "2025-06-09T09:47:50.594854Z",
          "iopub.execute_input": "2025-06-09T09:47:50.595195Z",
          "iopub.status.idle": "2025-06-09T09:47:50.634349Z",
          "shell.execute_reply.started": "2025-06-09T09:47:50.595169Z",
          "shell.execute_reply": "2025-06-09T09:47:50.633445Z"
        },
        "id": "JbVWuiOQfSCD"
      },
      "outputs": [],
      "execution_count": null
    },
    {
      "cell_type": "code",
      "source": [
        "model_2 = LinearRegression()\n",
        "model_2.fit(X2_train, y2_train)\n"
      ],
      "metadata": {
        "trusted": true,
        "execution": {
          "iopub.status.busy": "2025-06-09T09:47:52.762482Z",
          "iopub.execute_input": "2025-06-09T09:47:52.762827Z",
          "iopub.status.idle": "2025-06-09T09:47:52.773967Z",
          "shell.execute_reply.started": "2025-06-09T09:47:52.762792Z",
          "shell.execute_reply": "2025-06-09T09:47:52.772985Z"
        },
        "id": "yKt95_R3fSCD"
      },
      "outputs": [],
      "execution_count": null
    },
    {
      "cell_type": "code",
      "source": [
        "y_pred_1 = model_1.predict(X1_test)\n",
        "y_pred_2 = model_2.predict(X2_test)\n",
        "\n",
        "mse_1 = mean_squared_error(y1_test, y_pred_1)\n",
        "mse_2 = mean_squared_error(y2_test, y_pred_2)\n",
        "\n",
        "r2_1 = r2_score(y1_test, y_pred_1)\n",
        "r2_2 = r2_score(y2_test, y_pred_2)\n",
        "\n",
        "print(f\"Mse and r2 for model_1 = {mse_1:.2f}, {r2_1:.2f}\")\n",
        "print(f\"Mse and r2 for model_2 = {mse_2:.2f}, {r2_2:.2f}\")"
      ],
      "metadata": {
        "trusted": true,
        "execution": {
          "iopub.status.busy": "2025-06-09T09:47:55.051023Z",
          "iopub.execute_input": "2025-06-09T09:47:55.051323Z",
          "iopub.status.idle": "2025-06-09T09:47:55.062773Z",
          "shell.execute_reply.started": "2025-06-09T09:47:55.051299Z",
          "shell.execute_reply": "2025-06-09T09:47:55.061776Z"
        },
        "id": "Tej2vpTpfSCE"
      },
      "outputs": [],
      "execution_count": null
    },
    {
      "cell_type": "code",
      "source": [
        "model_2.fit(X2_test, y2_test)"
      ],
      "metadata": {
        "trusted": true,
        "execution": {
          "iopub.status.busy": "2025-06-09T09:47:57.701098Z",
          "iopub.execute_input": "2025-06-09T09:47:57.701847Z",
          "iopub.status.idle": "2025-06-09T09:47:57.713585Z",
          "shell.execute_reply.started": "2025-06-09T09:47:57.701813Z",
          "shell.execute_reply": "2025-06-09T09:47:57.712485Z"
        },
        "id": "1dxnBpgQfSCE"
      },
      "outputs": [],
      "execution_count": null
    },
    {
      "cell_type": "code",
      "source": [
        "age_missing = train[train['Age'].isnull()][['Pclass', 'Sex', 'Fare', 'SibSp', 'Parch']]"
      ],
      "metadata": {
        "trusted": true,
        "execution": {
          "iopub.status.busy": "2025-06-09T09:48:06.822391Z",
          "iopub.execute_input": "2025-06-09T09:48:06.822688Z",
          "iopub.status.idle": "2025-06-09T09:48:06.828888Z",
          "shell.execute_reply.started": "2025-06-09T09:48:06.822664Z",
          "shell.execute_reply": "2025-06-09T09:48:06.827975Z"
        },
        "id": "PK_4UC47fSCE"
      },
      "outputs": [],
      "execution_count": null
    },
    {
      "cell_type": "code",
      "source": [
        "age_PRED = model_2.predict(age_missing)"
      ],
      "metadata": {
        "trusted": true,
        "execution": {
          "iopub.status.busy": "2025-06-09T09:48:09.691317Z",
          "iopub.execute_input": "2025-06-09T09:48:09.691981Z",
          "iopub.status.idle": "2025-06-09T09:48:09.698169Z",
          "shell.execute_reply.started": "2025-06-09T09:48:09.69195Z",
          "shell.execute_reply": "2025-06-09T09:48:09.697218Z"
        },
        "id": "hhCj0x7PfSCE"
      },
      "outputs": [],
      "execution_count": null
    },
    {
      "cell_type": "code",
      "source": [
        "train.loc[train['Age'].isnull(), \"Age\"] = age_PRED\n"
      ],
      "metadata": {
        "trusted": true,
        "execution": {
          "iopub.status.busy": "2025-06-09T09:48:14.779857Z",
          "iopub.execute_input": "2025-06-09T09:48:14.780204Z",
          "iopub.status.idle": "2025-06-09T09:48:14.786048Z",
          "shell.execute_reply.started": "2025-06-09T09:48:14.780181Z",
          "shell.execute_reply": "2025-06-09T09:48:14.784751Z"
        },
        "id": "SsrdNQlDfSCF"
      },
      "outputs": [],
      "execution_count": null
    },
    {
      "cell_type": "code",
      "source": [
        "train.info()"
      ],
      "metadata": {
        "trusted": true,
        "execution": {
          "iopub.status.busy": "2025-06-09T09:48:16.987911Z",
          "iopub.execute_input": "2025-06-09T09:48:16.98822Z",
          "iopub.status.idle": "2025-06-09T09:48:16.999035Z",
          "shell.execute_reply.started": "2025-06-09T09:48:16.988199Z",
          "shell.execute_reply": "2025-06-09T09:48:16.998092Z"
        },
        "id": "Bmo9KP72fSCF"
      },
      "outputs": [],
      "execution_count": null
    },
    {
      "cell_type": "code",
      "source": [
        "features = ['Pclass', 'Sex', 'Age', 'Fare', 'SibSp', 'Parch', 'Embarked_C', 'Embarked_Q', 'Embarked_S']\n",
        "X = train[features]\n",
        "y = train['Survived']\n",
        "X_train, X_test, y_train, y_test = train_test_split(X, y, test_size=0.2, random_state=42)"
      ],
      "metadata": {
        "trusted": true,
        "execution": {
          "iopub.status.busy": "2025-06-09T09:48:31.471146Z",
          "iopub.execute_input": "2025-06-09T09:48:31.471451Z",
          "iopub.status.idle": "2025-06-09T09:48:31.482156Z",
          "shell.execute_reply.started": "2025-06-09T09:48:31.471429Z",
          "shell.execute_reply": "2025-06-09T09:48:31.481257Z"
        },
        "id": "WmRWE2scfSCF"
      },
      "outputs": [],
      "execution_count": null
    },
    {
      "cell_type": "code",
      "source": [
        "from sklearn.preprocessing import StandardScaler\n",
        "\n",
        "scaler = StandardScaler()\n",
        "X_train_scaled = scaler.fit_transform(X_train)\n",
        "X_test_scaled = scaler.transform(X_test)"
      ],
      "metadata": {
        "trusted": true,
        "execution": {
          "iopub.status.busy": "2025-06-09T09:48:40.912859Z",
          "iopub.execute_input": "2025-06-09T09:48:40.913139Z",
          "iopub.status.idle": "2025-06-09T09:48:40.924199Z",
          "shell.execute_reply.started": "2025-06-09T09:48:40.913121Z",
          "shell.execute_reply": "2025-06-09T09:48:40.923498Z"
        },
        "id": "WsGWzEWMfSCF"
      },
      "outputs": [],
      "execution_count": null
    },
    {
      "cell_type": "code",
      "source": [
        "from sklearn.linear_model import LogisticRegression\n",
        "\n",
        "logreg = LogisticRegression(max_iter=1000)\n",
        "logreg.fit(X_train_scaled, y_train)"
      ],
      "metadata": {
        "trusted": true,
        "execution": {
          "iopub.status.busy": "2025-06-09T09:48:47.692955Z",
          "iopub.execute_input": "2025-06-09T09:48:47.69323Z",
          "iopub.status.idle": "2025-06-09T09:48:47.845526Z",
          "shell.execute_reply.started": "2025-06-09T09:48:47.693213Z",
          "shell.execute_reply": "2025-06-09T09:48:47.844764Z"
        },
        "id": "B3PMEB8CfSCG"
      },
      "outputs": [],
      "execution_count": null
    },
    {
      "cell_type": "code",
      "source": [
        "from sklearn.metrics import accuracy_score, confusion_matrix, classification_report\n",
        "\n",
        "y_pred = logreg.predict(X_test_scaled)\n",
        "accuracy = accuracy_score(y_test, y_pred)\n",
        "\n",
        "print(\"Accuracy:\", accuracy)\n",
        "print(\"Confusion Matrix:\\n\", confusion_matrix(y_test, y_pred))\n",
        "print(\"Classification Report:\\n\", classification_report(y_test, y_pred))\n"
      ],
      "metadata": {
        "trusted": true,
        "execution": {
          "iopub.status.busy": "2025-06-09T09:48:55.874455Z",
          "iopub.execute_input": "2025-06-09T09:48:55.875289Z",
          "iopub.status.idle": "2025-06-09T09:48:55.892874Z",
          "shell.execute_reply.started": "2025-06-09T09:48:55.875259Z",
          "shell.execute_reply": "2025-06-09T09:48:55.892035Z"
        },
        "id": "0BO56_fCfSCG"
      },
      "outputs": [],
      "execution_count": null
    },
    {
      "cell_type": "code",
      "source": [
        "test.head()"
      ],
      "metadata": {
        "trusted": true,
        "execution": {
          "iopub.status.busy": "2025-06-09T09:48:59.766854Z",
          "iopub.execute_input": "2025-06-09T09:48:59.768338Z",
          "iopub.status.idle": "2025-06-09T09:48:59.78367Z",
          "shell.execute_reply.started": "2025-06-09T09:48:59.768309Z",
          "shell.execute_reply": "2025-06-09T09:48:59.782706Z"
        },
        "id": "reeguKzzfSCG"
      },
      "outputs": [],
      "execution_count": null
    },
    {
      "cell_type": "code",
      "source": [
        "\n",
        "test.drop(columns=['Name', \"PassengerId\", 'Ticket', 'Cabin'], inplace=True)"
      ],
      "metadata": {
        "trusted": true,
        "execution": {
          "iopub.status.busy": "2025-06-09T09:49:08.419352Z",
          "iopub.execute_input": "2025-06-09T09:49:08.420189Z",
          "iopub.status.idle": "2025-06-09T09:49:08.42507Z",
          "shell.execute_reply.started": "2025-06-09T09:49:08.420163Z",
          "shell.execute_reply": "2025-06-09T09:49:08.424095Z"
        },
        "id": "Qxu0CbwmfSCN"
      },
      "outputs": [],
      "execution_count": null
    },
    {
      "cell_type": "code",
      "source": [
        "test.head()"
      ],
      "metadata": {
        "trusted": true,
        "execution": {
          "iopub.status.busy": "2025-06-09T09:49:12.691475Z",
          "iopub.execute_input": "2025-06-09T09:49:12.691897Z",
          "iopub.status.idle": "2025-06-09T09:49:12.702964Z",
          "shell.execute_reply.started": "2025-06-09T09:49:12.691865Z",
          "shell.execute_reply": "2025-06-09T09:49:12.702257Z"
        },
        "id": "lFFVfuOwfSCO"
      },
      "outputs": [],
      "execution_count": null
    },
    {
      "cell_type": "code",
      "source": [
        "test['Sex'] = test['Sex'].map({'male':0, 'female':1})\n",
        "embarked_dummies = pd.get_dummies(test['Embarked'], prefix='Embarked')\n",
        "test = pd.concat([test, embarked_dummies], axis=1)\n",
        "test.drop('Embarked', axis=1, inplace=True)"
      ],
      "metadata": {
        "trusted": true,
        "execution": {
          "iopub.status.busy": "2025-06-09T09:49:34.243981Z",
          "iopub.execute_input": "2025-06-09T09:49:34.245151Z",
          "iopub.status.idle": "2025-06-09T09:49:34.255552Z",
          "shell.execute_reply.started": "2025-06-09T09:49:34.245114Z",
          "shell.execute_reply": "2025-06-09T09:49:34.254518Z"
        },
        "id": "kAQW48uXfSCO"
      },
      "outputs": [],
      "execution_count": null
    },
    {
      "cell_type": "code",
      "source": [
        "test.head()"
      ],
      "metadata": {
        "trusted": true,
        "execution": {
          "iopub.status.busy": "2025-06-09T09:49:39.685197Z",
          "iopub.execute_input": "2025-06-09T09:49:39.685515Z",
          "iopub.status.idle": "2025-06-09T09:49:39.697482Z",
          "shell.execute_reply.started": "2025-06-09T09:49:39.685495Z",
          "shell.execute_reply": "2025-06-09T09:49:39.696552Z"
        },
        "id": "5rib-KwefSCP"
      },
      "outputs": [],
      "execution_count": null
    },
    {
      "cell_type": "code",
      "source": [
        "age_missing_test = test[test['Age'].isnull()][['Pclass', 'Sex', 'Fare', 'SibSp', 'Parch']]\n"
      ],
      "metadata": {
        "trusted": true,
        "execution": {
          "iopub.status.busy": "2025-06-09T09:53:22.280089Z",
          "iopub.execute_input": "2025-06-09T09:53:22.280447Z",
          "iopub.status.idle": "2025-06-09T09:53:22.287863Z",
          "shell.execute_reply.started": "2025-06-09T09:53:22.280424Z",
          "shell.execute_reply": "2025-06-09T09:53:22.286798Z"
        },
        "id": "x4Lko4YAfSCP"
      },
      "outputs": [],
      "execution_count": null
    },
    {
      "cell_type": "code",
      "source": [
        "age_missing_test.head()\n",
        "#features = ['Pclass', 'Sex', 'Age', 'Fare', 'SibSp', 'Parch', 'Embarked_C', 'Embarked_Q', 'Embarked_S']\n",
        "#test = test[features]"
      ],
      "metadata": {
        "trusted": true,
        "execution": {
          "iopub.status.busy": "2025-06-09T09:53:30.578098Z",
          "iopub.execute_input": "2025-06-09T09:53:30.579115Z",
          "iopub.status.idle": "2025-06-09T09:53:30.59261Z",
          "shell.execute_reply.started": "2025-06-09T09:53:30.579071Z",
          "shell.execute_reply": "2025-06-09T09:53:30.591301Z"
        },
        "id": "-FZBcXSffSCP"
      },
      "outputs": [],
      "execution_count": null
    },
    {
      "cell_type": "code",
      "source": [
        "y_pred_test = model_2.predict(age_missing_test)\n",
        "\n"
      ],
      "metadata": {
        "trusted": true,
        "execution": {
          "iopub.status.busy": "2025-06-09T09:55:40.336315Z",
          "iopub.execute_input": "2025-06-09T09:55:40.336686Z",
          "iopub.status.idle": "2025-06-09T09:55:40.343356Z",
          "shell.execute_reply.started": "2025-06-09T09:55:40.336659Z",
          "shell.execute_reply": "2025-06-09T09:55:40.342219Z"
        },
        "id": "dXABQrQifSCP"
      },
      "outputs": [],
      "execution_count": null
    },
    {
      "cell_type": "code",
      "source": [
        "test.loc[test['Age'].isnull(), \"Age\"] = y_pred_test\n"
      ],
      "metadata": {
        "trusted": true,
        "execution": {
          "iopub.status.busy": "2025-06-09T09:56:22.533755Z",
          "iopub.execute_input": "2025-06-09T09:56:22.534583Z",
          "iopub.status.idle": "2025-06-09T09:56:22.540742Z",
          "shell.execute_reply.started": "2025-06-09T09:56:22.534547Z",
          "shell.execute_reply": "2025-06-09T09:56:22.539633Z"
        },
        "id": "v8OoYq-QfSCQ"
      },
      "outputs": [],
      "execution_count": null
    },
    {
      "cell_type": "code",
      "source": [
        "test.info()"
      ],
      "metadata": {
        "trusted": true,
        "execution": {
          "iopub.status.busy": "2025-06-09T09:56:25.946933Z",
          "iopub.execute_input": "2025-06-09T09:56:25.947419Z",
          "iopub.status.idle": "2025-06-09T09:56:25.957577Z",
          "shell.execute_reply.started": "2025-06-09T09:56:25.947393Z",
          "shell.execute_reply": "2025-06-09T09:56:25.956702Z"
        },
        "id": "pZV3pdXAfSCQ"
      },
      "outputs": [],
      "execution_count": null
    },
    {
      "cell_type": "code",
      "source": [
        "test.describe()"
      ],
      "metadata": {
        "trusted": true,
        "execution": {
          "iopub.status.busy": "2025-06-09T09:59:07.917972Z",
          "iopub.execute_input": "2025-06-09T09:59:07.91827Z",
          "iopub.status.idle": "2025-06-09T09:59:07.94097Z",
          "shell.execute_reply.started": "2025-06-09T09:59:07.918249Z",
          "shell.execute_reply": "2025-06-09T09:59:07.940195Z"
        },
        "id": "xlRqdVPcfSCQ"
      },
      "outputs": [],
      "execution_count": null
    },
    {
      "cell_type": "code",
      "source": [
        "test['Fare'] = test['Fare'].fillna(test['Fare'].mean())"
      ],
      "metadata": {
        "trusted": true,
        "execution": {
          "iopub.status.busy": "2025-06-09T10:03:33.510849Z",
          "iopub.execute_input": "2025-06-09T10:03:33.511223Z",
          "iopub.status.idle": "2025-06-09T10:03:33.517768Z",
          "shell.execute_reply.started": "2025-06-09T10:03:33.511199Z",
          "shell.execute_reply": "2025-06-09T10:03:33.51664Z"
        },
        "id": "U59ap8hdfSCQ"
      },
      "outputs": [],
      "execution_count": null
    },
    {
      "cell_type": "code",
      "source": [
        "features = ['Pclass', 'Sex', 'Age', 'Fare', 'SibSp', 'Parch', 'Embarked_C', 'Embarked_Q', 'Embarked_S']\n",
        "X = test[features]\n",
        "\n",
        "X_scaled_test = scaler.transform(X)"
      ],
      "metadata": {
        "trusted": true,
        "execution": {
          "iopub.status.busy": "2025-06-09T10:05:35.801328Z",
          "iopub.execute_input": "2025-06-09T10:05:35.801693Z",
          "iopub.status.idle": "2025-06-09T10:05:35.810925Z",
          "shell.execute_reply.started": "2025-06-09T10:05:35.801669Z",
          "shell.execute_reply": "2025-06-09T10:05:35.80995Z"
        },
        "id": "D-U4SrusfSCR"
      },
      "outputs": [],
      "execution_count": null
    },
    {
      "cell_type": "code",
      "source": [
        "Target = logreg.predict(X_scaled_test)\n"
      ],
      "metadata": {
        "trusted": true,
        "execution": {
          "iopub.status.busy": "2025-06-09T10:10:09.624591Z",
          "iopub.execute_input": "2025-06-09T10:10:09.625258Z",
          "iopub.status.idle": "2025-06-09T10:10:09.629988Z",
          "shell.execute_reply.started": "2025-06-09T10:10:09.625231Z",
          "shell.execute_reply": "2025-06-09T10:10:09.628841Z"
        },
        "id": "Z-jjjT0lfSCR"
      },
      "outputs": [],
      "execution_count": null
    },
    {
      "cell_type": "code",
      "source": [
        "test = pd.read_csv('/kaggle/input/titanic/test.csv')\n"
      ],
      "metadata": {
        "trusted": true,
        "execution": {
          "iopub.status.busy": "2025-06-09T10:14:07.301584Z",
          "iopub.execute_input": "2025-06-09T10:14:07.302447Z",
          "iopub.status.idle": "2025-06-09T10:14:07.311441Z",
          "shell.execute_reply.started": "2025-06-09T10:14:07.302419Z",
          "shell.execute_reply": "2025-06-09T10:14:07.310539Z"
        },
        "id": "vVXeXjGMfSCR"
      },
      "outputs": [],
      "execution_count": null
    },
    {
      "cell_type": "code",
      "source": [
        "submission = pd.DataFrame({\n",
        "    'PassengerId': test['PassengerId'],\n",
        "    'Survived': Target\n",
        "})"
      ],
      "metadata": {
        "trusted": true,
        "execution": {
          "iopub.status.busy": "2025-06-09T10:14:11.034193Z",
          "iopub.execute_input": "2025-06-09T10:14:11.034498Z",
          "iopub.status.idle": "2025-06-09T10:14:11.039544Z",
          "shell.execute_reply.started": "2025-06-09T10:14:11.034475Z",
          "shell.execute_reply": "2025-06-09T10:14:11.038604Z"
        },
        "id": "92CuXkQxfSCR"
      },
      "outputs": [],
      "execution_count": null
    },
    {
      "cell_type": "code",
      "source": [
        "submission"
      ],
      "metadata": {
        "trusted": true,
        "execution": {
          "iopub.status.busy": "2025-06-09T10:14:25.865515Z",
          "iopub.execute_input": "2025-06-09T10:14:25.86586Z",
          "iopub.status.idle": "2025-06-09T10:14:25.874984Z",
          "shell.execute_reply.started": "2025-06-09T10:14:25.865836Z",
          "shell.execute_reply": "2025-06-09T10:14:25.874097Z"
        },
        "id": "iPfWCcMIfSCS"
      },
      "outputs": [],
      "execution_count": null
    },
    {
      "cell_type": "code",
      "source": [
        "submission.to_csv('submission.csv', index=False)\n"
      ],
      "metadata": {
        "trusted": true,
        "execution": {
          "iopub.status.busy": "2025-06-09T10:18:09.721879Z",
          "iopub.execute_input": "2025-06-09T10:18:09.722258Z",
          "iopub.status.idle": "2025-06-09T10:18:09.733967Z",
          "shell.execute_reply.started": "2025-06-09T10:18:09.722229Z",
          "shell.execute_reply": "2025-06-09T10:18:09.733139Z"
        },
        "id": "YVJT35VHfSCS"
      },
      "outputs": [],
      "execution_count": null
    }
  ]
}